{
  "nbformat": 4,
  "nbformat_minor": 0,
  "metadata": {
    "colab": {
      "provenance": [],
      "collapsed_sections": [
        "p2u1R-X2_Dzw",
        "n5p6agiMXEcV",
        "l4Ux9ofkXn-g",
        "jkMSu_nOZqd6",
        "gPw64qwSrV5P",
        "S8AdEFBnuxvZ",
        "700YInEcxhKB",
        "U4clcjjThTRs"
      ],
      "include_colab_link": true
    },
    "kernelspec": {
      "name": "python3",
      "display_name": "Python 3"
    },
    "language_info": {
      "name": "python"
    }
  },
  "cells": [
    {
      "cell_type": "markdown",
      "metadata": {
        "id": "view-in-github",
        "colab_type": "text"
      },
      "source": [
        "<a href=\"https://colab.research.google.com/github/bryang229/Grover_for_four_colors/blob/main/Copy_of_QXQ_EQCI_Homework_6_%5BSTUDENT%5D.ipynb\" target=\"_parent\"><img src=\"https://colab.research.google.com/assets/colab-badge.svg\" alt=\"Open In Colab\"/></a>"
      ]
    },
    {
      "cell_type": "markdown",
      "source": [
        "---\n",
        "# **Grover's Algorithm for Graph Coloring Problems**\n",
        "---\n",
        "\n",
        "## **Introduction** \n",
        "This notebook will teach you how to use Grover's algorithm for more advanced problems known as Graph Coloring Problems. You will learn how to build your own an oracle and solve several types of problems that can all be reduced to Graph Coloring.\n",
        "\n",
        "<br>\n",
        "\n",
        "## **Description**\n",
        "In Computer Science, Graph Coloring is one of many so-called \"graph problems\". Although the mathematical representation and analysis of these problems can get very complex, graph coloring is actually pretty simple. **We can view graph coloring as trying to answer the question, \"Can we color every country on a map without any touching countries having the same color, given *k* colors?\"**\n",
        "\n",
        "<br>\n",
        "\n",
        "It turns out that this problem is extremely powerful and can be used to represent many other problems including:\n",
        "* Sudoku (numbers instead of colors in a 9X9 map)\n",
        "* Scheduling\n",
        "* Networking\n",
        "* Machine Learning (ex: clustering)\n",
        "\n",
        "Therefore, solving such a problem is very important!\n",
        "\n",
        "<br>\n",
        "\n",
        "We will see how to use Grover's algorithm for this problem, particularly learning how to use Grover to search of a *list of solutions* instead of through a literal databse. This is actually believed to be the more likely use of Grover once we have fault tolerant computers, due to the difficulty of encoding databases into quantum states in part.\n",
        "\n",
        "We will follow these steps for building and solving a problem with Grover:\n",
        "1. Create an initial state preparation circuit. This will put all possible solutions in equal superposition.\n",
        "1. Create an oracle circuit. This will flip the phase of correct solutions and leave the rest alone. Defining this is often the hardest part.\n",
        "1. Define the problem using Qiskit's `Amplification(...)` function.\n",
        "1. Solve the problem using Qiskit's `Grover(...)` function. We usually have to run several times with different number of iterations to get a good result.\n",
        "\n",
        "\n",
        "\n",
        "**NOTE**: This notebook will involve looking at many histograms of results. As the size of the problems increase, so will the number of solutions we see in our graphs. If you start having trouble seeing the individual bars and states in the graphs, you can click on them to zoom in OR right click and press \"Save Image As...\" to download onto your computer and open it up in a larger window.\n",
        "\n",
        "<br>\n",
        "\n",
        "## **Key Questions**\n",
        "In this notebook, you will answer the following questions:\n",
        "1. When using Grover's algorithm, we do not get good results for too few *or* too many iterations. Rather, there is a \"sweet spot\" (a balanced number of iterations) right in the middle. Why is this?\n",
        "2. How and why does having *multiple* correct answers change the number of iterations needed for Grover's algorithm?\n",
        "\n",
        "\n",
        "<br>\n",
        "\n",
        "## **Structure**\n",
        "This project is broken into 2 parts:\n",
        "\n",
        "> **Part 1**: Grover for 2 Coloring Problems\n",
        ">\n",
        ">> **Part 1.1**: Building a Specific Problem\n",
        ">>\n",
        ">> **Part 1.2**: Building General Problems\n",
        ">>\n",
        ">> **Part 1.3**: Solving General Problems\n",
        ">\n",
        "> **Part 2**: A Mathematical Formulation of Grover's Algorithm\n",
        ">\n",
        ">>**Part 2.1**: Ket Representation\n",
        ">>\n",
        ">>**Part 2.2**: Vector Representation\n",
        ">\n",
        "> **Wrapping Up**\n",
        "\n",
        "<br>\n",
        "\n",
        "## **Resources**\n",
        "\n",
        "* [Qiskit Textbook: Grover for Sudoku](https://qiskit.org/textbook/ch-algorithms/grover.html#sudoku)\n",
        "* [Qiskit Documentation: Grover’s Algorithm and Amplitude Amplification](https://qiskit.org/documentation/tutorials/algorithms/06_grover.html)\n",
        "* [Qiskit Documentation: `AmplificationProblem(...)`](https://qiskit.org/documentation/stubs/qiskit.algorithms.AmplificationProblem.html)\n",
        "* [Qiskit Documentation: `Grover(...)`](https://qiskit.org/documentation/stubs/qiskit.algorithms.Grover.html)\n",
        "* [Qiskit Documentation: `circuit.mct(...)`](https://qiskit.org/documentation/stubs/qiskit.circuit.QuantumCircuit.mct.html)\n",
        "* [Original Paper on Grover's Algorithm](https://arxiv.org/pdf/quant-ph/9605043.pdf)\n",
        "\n",
        "**If you're curious to learn more:**\n",
        "* [Youtube: The Four Color Theorem - What Counts as a Proof?](https://www.youtube.com/watch?v=42-ws3bkrKM)\n",
        "\n",
        "<br>\n",
        "\n",
        "**Run the cell below to import all necessary functions, libraries, and code.**"
      ],
      "metadata": {
        "id": "Op_FbrczZGkf"
      }
    },
    {
      "cell_type": "code",
      "source": [
        "!pip install qiskit\n",
        "from qiskit import QuantumCircuit, transpile, Aer, IBMQ\n",
        "from qiskit.circuit import AncillaQubit\n",
        "from qiskit.providers.aer import QasmSimulator\n",
        "from qiskit.visualization import plot_histogram\n",
        "\n",
        "from qiskit.algorithms import AmplificationProblem\n",
        "from qiskit.algorithms import Grover\n",
        "\n",
        "#provider = IBMQ.load_account()\n",
        "\n",
        "#import math\n",
        "#from qiskit.quantum_info import Statevector\n",
        "\n",
        "import warnings\n",
        "warnings.filterwarnings('ignore')\n",
        "\n",
        "\n",
        "\n",
        "def plot_results(result, satisfies_disagree_list):\n",
        "\n",
        "  # Plotting results\n",
        "  counts = result.circuit_results[0]\n",
        "  plot = plot_histogram(counts, figsize=(int(6*len(counts.keys())**(1/2)), 8), sort='value_desc')\n",
        "  ax = plot.gca()\n",
        "  ax.tick_params(axis='x', which='major', labelsize=10)\n",
        "  ax.set_xlabel(\"State\", fontsize = 'x-large')\n",
        "  ax.set_ylabel(\"Count\", fontsize = 'x-large')\n",
        "\n",
        "  # Marking correct (orange) vs. incorrect (blue) states\n",
        "\n",
        "  correct_count = 0\n",
        "  states = ax.xaxis.get_ticklabels()\n",
        "  for i in range(len(states)):\n",
        "    if satisfies_disagree_list(states[i].get_text()):\n",
        "      ax.containers[i][0].set(color = 'orange')\n",
        "      correct_count += 1\n",
        "    else:\n",
        "      ax.containers[i][0].set(color = 'blue')\n",
        "\n",
        "  leg = plot.legend(['Incorrect (' + str(len(states) - correct_count) + ' counted)', \n",
        "                     'Correct (' + str(correct_count) + ' counted)'], \n",
        "                    fontsize = 'x-large',\n",
        "                    loc = 'upper left')\n",
        "  leg.legendHandles[0].set_color('blue')\n",
        "  leg.legendHandles[1].set_color('orange')\n",
        "\n",
        "  display(plot)\n",
        "\n",
        "\n",
        "print(\"Libraries Imported Successfully!\")"
      ],
      "metadata": {
        "id": "_nvE4CopMt_N"
      },
      "execution_count": null,
      "outputs": []
    },
    {
      "cell_type": "markdown",
      "metadata": {
        "id": "xk3_cvzKQcab"
      },
      "source": [
        "---\n",
        "## **Part 1: Grover for 2 Coloring Problems**\n",
        "---\n",
        "\n",
        "In this section, we will learn how to use Grover's algorithm to solve the 2 Coloring Problem. In other words, we are trying to color a map with just 2 colors available, which we will choose to be black and white. We will do so through these parts:\n",
        "\n",
        "**Part 1.1**: Building a Specific Problem\n",
        "\n",
        "**Part 1.2**: Building General Problems\n",
        "\n",
        "**Part 1.3**: Solving General Problems"
      ]
    },
    {
      "cell_type": "markdown",
      "source": [
        "---\n",
        "### **Part 1.1: Building a Specific Problem**\n",
        "---\n",
        "\n",
        "In this section, we will build and solve a specific 2 coloring problem: two bordering countries with two colors.\n",
        "\n",
        "**Country 0 | Country 1**\n",
        "\n",
        "<br>\n",
        "\n",
        "Therefore, the correct answers are:\n",
        "\n",
        "**White | Black**\n",
        "\n",
        "**Black | White**\n",
        "\n",
        "And the incorrect answers are:\n",
        "\n",
        "**White | White**\n",
        "\n",
        "**Black | Black**\n",
        "\n",
        "<br>\n",
        "\n",
        "We will use the following representation:\n",
        "\n",
        "* Each country is represented by a qubit.\n",
        "* When a qubit is 0, that country is colored white.\n",
        "* When a qubit is 1, that country is colored black.\n",
        "\n",
        "This means that the correct solutions correspond to 01 (white and black) and 10 (black and white) where the incorrect solutions correspond to 00 (white and white) and 11 (black and black).\n",
        "\n",
        "\n",
        "<br>\n",
        "\n",
        "Lastly, we will follow these steps for building and solving this problem with Grover:\n",
        "1. Create an initial state preparation circuit. This will put all possible solutions in equal superposition.\n",
        "1. Create an oracle circuit. This will flip the phase of correct solutions and leave the rest alone. Defining this is often the hardest part.\n",
        "1. Define the problem using Qiskit's `Amplification(...)` function.\n",
        "1. Solve the problem using Qiskit's `Grover(...)` function. We usually have to run several times with different number of iterations to get a good result.\n",
        "\n",
        "<br>\n",
        "\n",
        "**NOTE**: We will provide you a lot of guidance in this section so that you can focus on implementing the code first. Then, we recommend you go back over this part to really understand it upon a second look."
      ],
      "metadata": {
        "id": "H3gNn5rGTE11"
      }
    },
    {
      "cell_type": "markdown",
      "source": [
        "#### **Step #1: Create an initial state preparation circuit.**\n",
        "\n",
        "This circuit needs to create an equal superposition of all possible solutions. Therefore, complete the code below so that:\n",
        "* There is 1 qubit per country and no classical bits.\n",
        "* Each qubit is put into superposition."
      ],
      "metadata": {
        "id": "Oo95KzOmTxBe"
      }
    },
    {
      "cell_type": "code",
      "source": [
        "prep = QuantumCircuit(# COMPLETE THIS LINE\n",
        "                      \n",
        "prep.# COMPLETE THIS CODE\n",
        "\n",
        "\n",
        "prep.draw()"
      ],
      "metadata": {
        "id": "hVuttCBpuYUx"
      },
      "execution_count": null,
      "outputs": []
    },
    {
      "cell_type": "markdown",
      "source": [
        "#### **Step #2: Create an oracle circuit.**\n",
        "\n",
        "We need to define a circuit that will flip the phase of correct solutions and leave the rest alone. In this particular case, that means:\n",
        "\n",
        "* If the two qubits disagree with each other (01 or 10), then we should flip the phase.\n",
        "* Otherwise (00 or 11), leave the phase alone.\n",
        "\n",
        "In order to implement this, we will use two extra qubits:\n",
        "* 1 qubit that says there's a valid solution (01 or 10) by flipping to 1.\n",
        "* **The \"output\" bit**: 1 qubit that marks the state by flipping the phase, specifically changing from  $|-\\rangle$ to $-|-\\rangle$.\n",
        "\n",
        "This is broken down into 3 parts:\n",
        "1. Initialize the oracle circuit.\n",
        "1. Check if the current state is a solution.\n",
        "1. Reset the extra bit for the next iteration."
      ],
      "metadata": {
        "id": "d07zE8UtusRg"
      }
    },
    {
      "cell_type": "markdown",
      "source": [
        "##### **1. Initialize the oracle circuit.**\n",
        "\n",
        "Specifically, create a circuit such that:\n",
        "* There's 4 qubits and no classical bits.\n",
        "* The last qubit, $q_3$, is put into the $|-\\rangle$ state."
      ],
      "metadata": {
        "id": "9FHmySffzHVQ"
      }
    },
    {
      "cell_type": "code",
      "source": [
        "oracle = # COMPLETE THIS LINE\n",
        "oracle.# COMPLETE THIS LINE\n",
        "oracle.# COMPLETE THIS LINE"
      ],
      "metadata": {
        "id": "OqBS4hY8zl0T"
      },
      "execution_count": null,
      "outputs": []
    },
    {
      "cell_type": "markdown",
      "source": [
        "##### **2. Check if the current state is a solution.**\n",
        "\n",
        "Specifically, apply gates as follows:\n",
        "* **Flip $q_2$ if $q_0$ and $q_1$ disagree**: CX controlled by $q_0$ and targeting $q_2$ and a CX controlled by $q_1$ and targeting $q_2$. Technically, this calculates $q_2$ = XOR($q_0$, $q_1$).\n",
        "* **Flip $q_3$ if $q_2$ has been activated**: CX controlled by $q_2$ and targeting $q_3$.\n",
        "\n",
        "**NOTE**: Before continuing, it is worth using pen, paper, and kets to understand how these gates accomplish their purposes stated above."
      ],
      "metadata": {
        "id": "gGurRwyNzr4Z"
      }
    },
    {
      "cell_type": "code",
      "source": [
        "# Flip qubit 2 if qubits 0 and 1 disagree\n",
        "oracle.# COMPLETE THIS LINE\n",
        "oracle.# COMPLETE THIS LINE\n",
        "\n",
        "# Flip qubit 3 if qubit 2 has been activated\n",
        "oracle.# COMPLETE THIS LINE"
      ],
      "metadata": {
        "id": "mcTg-lp5zr4a"
      },
      "execution_count": null,
      "outputs": []
    },
    {
      "cell_type": "markdown",
      "source": [
        "##### **3. Reset the extra bit for the next iteration.**\n",
        "\n",
        "Since Grover's algorithm often requires multiple uses of the oracle, it is very important that we reset the extra qubit, $q_2$. Otherwise, we may accidentally mark states as valid or not based on what happened in the previous iteration. In practice, this is a matter of just undoing whatever we did to $q_2$.\n",
        "\n",
        "Specifically, **flip $q_2$ if $q_0$ and $q_1$ disagree**: CX controlled by $q_0$ and targeting $q_2$ and a CX controlled by $q_1$ and targeting $q_2$."
      ],
      "metadata": {
        "id": "ZlOm3rOV1H0s"
      }
    },
    {
      "cell_type": "code",
      "source": [
        "# Undo flipping qubit 2 if qubits 0 and 1 disagree\n",
        "oracle.# COMPLETE THIS LINE\n",
        "oracle.# COMPLETE THIS LINE\n",
        "\n",
        "oracle.draw()"
      ],
      "metadata": {
        "id": "Thji880C1H0t"
      },
      "execution_count": null,
      "outputs": []
    },
    {
      "cell_type": "markdown",
      "source": [
        "#### **Step #3: Define the problem using Qiskit's Amplification(...) function.**\n",
        "\n",
        "Now that we have the state preparation and oracle circuits defined, we can setup the problem for Qiskit. We have provided this code for you, however, it will be valuable to understand this code before trying to solve other problems."
      ],
      "metadata": {
        "id": "y1cxxJbJ2jQW"
      }
    },
    {
      "cell_type": "code",
      "source": [
        "# Function that takes a string representation of a state\n",
        "# and checks if the bits disagree with each other\n",
        "def check_disagreement(state):\n",
        "  if state[0] == state[1]: return False\n",
        "  else: return True\n",
        "\n",
        "# Setting up the problem with Qiskit's AmplificationProblem(...) function\n",
        "problem = AmplificationProblem(oracle, \n",
        "                               state_preparation = prep, \n",
        "                               is_good_state = check_disagreement, \n",
        "                               objective_qubits = [0, 1])"
      ],
      "metadata": {
        "id": "ZrWg3mUx20iN"
      },
      "execution_count": null,
      "outputs": []
    },
    {
      "cell_type": "markdown",
      "source": [
        "#### **Step #4: Solve the problem using Qiskit's `Grover(...)` function.**\n",
        "\n",
        "We have provided you with the code below for 0 iterations, which means we don't check the oracle at all and just prepare an equal superposition of all solutions.\n",
        "\n",
        "**Run the code, increasing the number of iterations until only correct answers are shown.**"
      ],
      "metadata": {
        "id": "X4KDiLrv3VRR"
      }
    },
    {
      "cell_type": "code",
      "source": [
        "grover = Grover(iterations = 0, quantum_instance = Aer.get_backend('qasm_simulator'))\n",
        "results = grover.amplify(problem)\n",
        "\n",
        "plot_results(results, check_disagreement)"
      ],
      "metadata": {
        "id": "wmGC9bAt5kjc"
      },
      "execution_count": null,
      "outputs": []
    },
    {
      "cell_type": "markdown",
      "source": [
        "#### **Draw the Full Circuit.**\n",
        "\n",
        "Just for reference, **run the code below to draw the full circuit after you have found the ideal number of iterations.**\n",
        "\n",
        "**NOTE**: The mysterious looking gates at the beginning, $U3(\\pi/2, 0, \\pi)$, are actually just another way to write H gates."
      ],
      "metadata": {
        "id": "5W8Cc0097j3_"
      }
    },
    {
      "cell_type": "code",
      "source": [
        "grover.construct_circuit(problem, measurement = True).decompose(reps = 2).draw()"
      ],
      "metadata": {
        "id": "aEtVLiD67BXN"
      },
      "execution_count": null,
      "outputs": []
    },
    {
      "cell_type": "markdown",
      "source": [
        "---\n",
        "### **Part 1.2: Building General Problems**\n",
        "---\n",
        "\n",
        "In this section, we will extend the approach we used below to solve general 2 color problems by placing this code into functions.\n",
        "\n",
        "We need several variables to establish the problem:\n",
        "\n",
        "\n",
        "*   **variable_qubits** will be a list of all the qubits that represent the color of a country. We need as many **variable_qubits** as we have countries for this exact reason.\n",
        "*   **check_qubits** are used to store the result of comparing the colors of neighboring countries\n",
        "*   The **output_qubit** is a qubit which will be used to \"mark\" the correct state by flipping the phase.\n",
        "*   The **disagree_list** is how we specify which countries are touching. We specify the index of the two countries that are touching within a list. For example, [2,6] would be used to specify that country 2 and country 6 share a border.\n",
        "\n",
        "\n",
        "\n",
        "\n",
        "**Start by running the code below to define an example problem (the same one as Part 1.1) using variables.**"
      ],
      "metadata": {
        "id": "xqhh0HLI9Rye"
      }
    },
    {
      "cell_type": "code",
      "source": [
        "variable_qubits = [0, 1]\n",
        "check_qubits = [2]\n",
        "output_qubit = 3\n",
        "disagree_list = [[0,1]]"
      ],
      "metadata": {
        "id": "eL5bfomNGXYk"
      },
      "execution_count": null,
      "outputs": []
    },
    {
      "cell_type": "markdown",
      "source": [
        "#### **Problem #1.2.1**\n",
        "\n",
        "First, let us define a general initial state preparation circuit. Specifically, complete the code below to create a function that:\n",
        "* Takes in the list of qubit numbers called `variable_qubits`.\n",
        "* Initializes a quantum circuit with a qubit for every variable and no classical bits.\n",
        "* Puts all the qubits in `variable_qubits` into equal superpositions."
      ],
      "metadata": {
        "id": "_tXL9UKy9kg_"
      }
    },
    {
      "cell_type": "code",
      "source": [
        "def graph_color_prep(variable_qubits):\n",
        "  \n",
        "  num_vars = len(variable_qubits)\n",
        "  prep = # COMPLETE THIS LINE\n",
        "\n",
        "  prep.h(# COMPLETE THIS CODE\n",
        "\n",
        "  return prep"
      ],
      "metadata": {
        "id": "mmtp-Tad-N3W"
      },
      "execution_count": null,
      "outputs": []
    },
    {
      "cell_type": "markdown",
      "source": [
        "#### **Problem #1.2.2**\n",
        "\n",
        "Now let's work out the code for a general graph coloring oracle part by part. Specifically,\n",
        "\n",
        "1. Initializing a quantum circuit with the output bit in the $|-\\rangle$ state.\n",
        "1. Checking if each pair of qubits in a given list, `disagree_list`, disagree with each other.\n",
        "1. Flip the output bit if all disagreements are satisfied.\n",
        "1. Resetting all the extra qubits for the next iteration."
      ],
      "metadata": {
        "id": "k98G5bIp-78k"
      }
    },
    {
      "cell_type": "markdown",
      "source": [
        "##### **1. Initializing a quantum circuit with the output bit in the $|-\\rangle$ state.**"
      ],
      "metadata": {
        "id": "f-buwxj3AlIJ"
      }
    },
    {
      "cell_type": "code",
      "source": [
        "num_vars = len(variable_qubits)\n",
        "num_checks = len(check_qubits)\n",
        "num_outputs = 1\n",
        "\n",
        "oracle = QuantumCircuit(# COMPLETE THIS LINE"
      ],
      "metadata": {
        "id": "efnBDGdC_sCO"
      },
      "execution_count": null,
      "outputs": []
    },
    {
      "cell_type": "markdown",
      "source": [
        "##### **2. Checking if each pair of qubits in a given list, `disagree_list`, disagree with each other.**\n",
        "\n",
        "Complete the code below to accomplish this. For reference:\n",
        "* each element of `disagree_list` is a pair of qubits that we need to disagree with each other. This represents two spots on a map that must be colored differently.\n",
        "* each element of `check_qubits` is the extra qubit to store the result of checking a pair from `disagree_list`.\n",
        "\n",
        "**NOTE**: This is a good time to stop and check that you understand what this code is doing before continuing."
      ],
      "metadata": {
        "id": "GU1KrSJBAqu0"
      }
    },
    {
      "cell_type": "code",
      "source": [
        "for i in range(len(disagree_list)):\n",
        "  oracle.cx(disagree_list[i][0], check_qubits[i])\n",
        "  oracle.cx(# COMPLETE THIS LINE"
      ],
      "metadata": {
        "id": "RMNPyItVAqu1"
      },
      "execution_count": null,
      "outputs": []
    },
    {
      "cell_type": "markdown",
      "source": [
        "##### **3. Flip the output bit if all disagreements are satisfied.**\n",
        "\n",
        "While the CNOT gate worked for the 2 qubit example, we need to generalize this so that there are any number of control qubits. Qiskit provides the multi-controlled target (`mct`) gate for just this purpose.\n",
        "\n",
        "For example,\n",
        "\n",
        "* `mct([0], 1) = cx(0, 1)` (CNOT)\n",
        "* `mct([0, 1], 2) = ccx(0, 1, 2)` (Toffoli)\n",
        "* `mct([0, 1, 2, 3, 4, 5], 6) = cccccx(0, 1, 2, 3, 4, 5, 6)` (no special name, need to use `mct`)\n",
        "\n",
        "\n",
        "Use this gate specifically as follows:\n",
        "* `check_qubits` are the controls.\n",
        "* `output_qubit` is the target."
      ],
      "metadata": {
        "id": "H_Uv3mxJAuHM"
      }
    },
    {
      "cell_type": "code",
      "source": [
        "oracle.mct(# COMPLETE THIS LINE"
      ],
      "metadata": {
        "id": "8HjUIpEYAuHN"
      },
      "execution_count": null,
      "outputs": []
    },
    {
      "cell_type": "markdown",
      "source": [
        "##### **4. Resetting all the extra qubits for the next iteration.**\n",
        "\n",
        "Lastly, complete the code below to undo everything we did to the extra qubits.\n",
        "\n",
        "**Hint**: This is undoing the gates applied in 2."
      ],
      "metadata": {
        "id": "Qksq5ojHAzQx"
      }
    },
    {
      "cell_type": "code",
      "source": [
        "for i in range(len(disagree_list)):\n",
        "  oracle.# COMPLETE THIS LINE\n",
        "  oracle.# COMPLETE THIS LINE\n",
        "\n",
        "oracle.draw()"
      ],
      "metadata": {
        "id": "dULCVsLDAzQy"
      },
      "execution_count": null,
      "outputs": []
    },
    {
      "cell_type": "markdown",
      "source": [
        "#### **Problem #1.2.3**\n",
        "\n",
        "To truly make a general oracle, let's put this code into a function that we can call later on. Specifically, complete the code below by filling it in with each part of Problem #1.2.2 and returning the oracle circuit."
      ],
      "metadata": {
        "id": "t87faWvRE9d0"
      }
    },
    {
      "cell_type": "code",
      "source": [
        "def graph_color_oracle(disagree_list, variable_qubits, check_qubits, output_qubit):\n",
        "\n",
        "  # 1. Initializing a quantum circuit with the output bit in the |−⟩ state.\n",
        "  # COMPLETE THIS CODE\n",
        "\n",
        "\n",
        "  # 2. Checking if each pair of qubits in a given list, disagree_list, disagree with each other.\n",
        "  # COMPLETE THIS CODE\n",
        "\n",
        "  \n",
        "  # 3. Flip the output bit if all disagreements are satisfied.\n",
        "  # COMPLETE THIS CODE\n",
        "\n",
        "\n",
        "  # 4. Resetting all the extra qubits for the next iteration.\n",
        "  # COMPLETE THIS CODE\n",
        "\n",
        "  \n",
        "  return # COMPLETE THIS LINE"
      ],
      "metadata": {
        "id": "EWCz2mfJFPmu"
      },
      "execution_count": null,
      "outputs": []
    },
    {
      "cell_type": "markdown",
      "source": [
        "#### **Problem #1.2.4**\n",
        "\n",
        "Lastly, we will define a useful function for verifying the correct states as follows:\n",
        "* It takes in a string representation of a measured state, called `state`.\n",
        "* It takes in `disagree_list`.\n",
        "* It compares every pair of bits listed in the `disagree_list`.\n",
        "* If any pair of bits are the same, then the function returns `False`.\n",
        "* Otherwise, the function returns `True`."
      ],
      "metadata": {
        "id": "3O1ysAogGsBf"
      }
    },
    {
      "cell_type": "code",
      "source": [
        "def check_disagree_list_general(state, disagree_list):\n",
        "    \n",
        "    for i in range(len(disagree_list)):\n",
        "      if state[disagree_list[i][0]] == # COMPLETE THIS LINE\n",
        "        return False\n",
        "      \n",
        "    return # COMPLETE THIS LINE"
      ],
      "metadata": {
        "id": "dkGBibF3GsBg"
      },
      "execution_count": null,
      "outputs": []
    },
    {
      "cell_type": "markdown",
      "source": [
        "#### **Problem #1.2.5**\n",
        "\n",
        "Let's put these functions to use! Specifically,\n",
        "\n",
        "1. Define the problem.\n",
        "1. Solve the problem."
      ],
      "metadata": {
        "id": "d1B1jbfXH0QB"
      }
    },
    {
      "cell_type": "markdown",
      "source": [
        "##### **1. Define the problem.**\n",
        "\n",
        "Complete the code below to define this specific problem."
      ],
      "metadata": {
        "id": "Zv8-AfaLJxya"
      }
    },
    {
      "cell_type": "code",
      "source": [
        "# DEFINE THE VARIABLES\n",
        "variable_qubits = [0, 1]\n",
        "check_qubits = [2]\n",
        "output_qubit = 3\n",
        "disagree_list = [[0,1]]\n",
        "\n",
        "\n",
        "# CREATE THE PREP AND ORACLE CIRCUITS\n",
        "prep = graph_color_prep(# COMPLETE THIS LINE\n",
        "oracle = graph_color_oracle(# COMPLETE THIS LINE\n",
        "\n",
        "\n",
        "# DEFINE THE AmplificationProblem\n",
        "def check_disagreement(state): return check_disagree_list_general(state, disagree_list)\n",
        "\n",
        "problem = AmplificationProblem(oracle,\n",
        "                               state_preparation = # COMPLETE THIS LINE,\n",
        "                               objective_qubits = variable_qubits,\n",
        "                               is_good_state = check_disagreement\n",
        "                               )"
      ],
      "metadata": {
        "id": "RVuq1ehaH0QB"
      },
      "execution_count": null,
      "outputs": []
    },
    {
      "cell_type": "markdown",
      "source": [
        "##### **2. Solve the problem.**\n",
        "\n",
        "**Change the number of iterations to the number you found from Part 1.1 and run this code.**"
      ],
      "metadata": {
        "id": "_cL_vJkIKHuM"
      }
    },
    {
      "cell_type": "code",
      "source": [
        "grover = Grover(iterations = 0, quantum_instance = Aer.get_backend('qasm_simulator'))\n",
        "results = grover.amplify(problem)\n",
        "\n",
        "plot_results(results, check_disagreement)"
      ],
      "metadata": {
        "id": "ta42dy0HKHuM"
      },
      "execution_count": null,
      "outputs": []
    },
    {
      "cell_type": "markdown",
      "source": [
        "---\n",
        "### **Part 1.3: Solving General Problems**\n",
        "---\n",
        "\n",
        "So far, we have solved the same problem twice. Let's use the general functions we created above to solve more complicated problems."
      ],
      "metadata": {
        "id": "6_aLE8KTLG14"
      }
    },
    {
      "cell_type": "markdown",
      "source": [
        "#### **Problem #1.3.1**\n",
        "\n",
        "To start, let's solve a problem with just one more qubit (country to color) such that the countries border each other in a line as follows:\n",
        "\n",
        "**Country 0 | Country 1 | Country 2**\n",
        "\n",
        "<br>\n",
        "\n",
        "This means that:\n",
        "* Countries 0 and 1 must be colored differently.\n",
        "* Countries 1 and 2 must be colored differently.\n",
        "* Countries 0 and 2 can be colored the same or differently since they don't border each other.\n",
        "\n",
        "And the correct solutions are: 010 and 101.\n",
        "\n",
        "<br>\n",
        "\n",
        "Specifically,\n",
        "\n",
        "1. Define the problem.\n",
        "1. Solve the problem."
      ],
      "metadata": {
        "id": "C4QLCpzALTGH"
      }
    },
    {
      "cell_type": "markdown",
      "source": [
        "##### **1. Define the problem.**\n",
        "\n",
        "Complete the code below to define this specific problem."
      ],
      "metadata": {
        "id": "nOboXdQULTGH"
      }
    },
    {
      "cell_type": "code",
      "source": [
        "# DEFINE THE VARIABLES\n",
        "variable_qubits = [0, 1, 2]\n",
        "check_qubits = [2, 3]\n",
        "output_qubit = 4\n",
        "disagree_list = [[0,1], # COMPLETE THIS LINE TO SPECIFY WHICH PAIRS OF QUBITS MUST DISAGREE\n",
        "\n",
        "\n",
        "# CREATE THE PREP AND ORACLE CIRCUITS\n",
        "prep = graph_color_prep(# COMPLETE THIS LINE\n",
        "oracle = graph_color_oracle(# COMPLETE THIS LINE\n",
        "\n",
        "\n",
        "# DEFINE THE AmplificationProblem\n",
        "def check_disagreement(state): return check_disagree_list_general(state, disagree_list)\n",
        "\n",
        "problem = AmplificationProblem(oracle,\n",
        "                               state_preparation = # COMPLETE THIS LINE,\n",
        "                               objective_qubits = variable_qubits,\n",
        "                               is_good_state = check_disagreement\n",
        "                               )"
      ],
      "metadata": {
        "id": "Mw5XC6E-LTGI"
      },
      "execution_count": null,
      "outputs": []
    },
    {
      "cell_type": "markdown",
      "source": [
        "##### **2. Solve the problem.**\n",
        "\n",
        "Increase the number of iterations to get the best results. \n",
        "\n",
        "**NOTE**: The theoretically optimal number of iterations is roughly $\\frac{\\pi}{4}\\sqrt{\\frac{\\text{Number of Possible Answers}}{\\text{Number of Correct Answers}}}$. As such, for small numbers there often isn't an exact integer number of iterations that will give 100% correct solutions. Instead, the game is to start at something close to this value and tweak it until you get the correct answer most of the time."
      ],
      "metadata": {
        "id": "kEEWhJ1ILTGI"
      }
    },
    {
      "cell_type": "code",
      "source": [
        "grover = Grover(iterations = 0, quantum_instance = Aer.get_backend('qasm_simulator'))\n",
        "results = grover.amplify(problem)\n",
        "\n",
        "plot_results(results, check_disagreement)"
      ],
      "metadata": {
        "id": "jVLXniXMLTGI"
      },
      "execution_count": null,
      "outputs": []
    },
    {
      "cell_type": "markdown",
      "source": [
        "#### **Problem #1.3.2**\n",
        "\n",
        "Now, solve a problem with 4 countries in the same arrangement:\n",
        "\n",
        "**Country 0 | Country 1 | Country 2 | Country 3**\n",
        "\n",
        "<br>\n",
        "\n",
        "This means that:\n",
        "* Countries 0 and 1 must be colored differently.\n",
        "* Countries 1 and 2 must be colored differently.\n",
        "* Countries 2 and 3 must be colored differently.\n",
        "* Any other pair of countries can be colored the same or differently since they do not border each other.\n",
        "\n",
        "And the correct solutions are: 0101 and 1010\n",
        "\n",
        "<br>\n",
        "\n",
        "Specifically,\n",
        "\n",
        "1. Define the problem.\n",
        "1. Solve the problem."
      ],
      "metadata": {
        "id": "5ITYdliPQDsC"
      }
    },
    {
      "cell_type": "markdown",
      "source": [
        "##### **1. Define the problem.**\n",
        "\n",
        "Complete the code below to define this specific problem."
      ],
      "metadata": {
        "id": "pUhjzCW0QDsF"
      }
    },
    {
      "cell_type": "code",
      "source": [
        "# DEFINE THE VARIABLES\n",
        "variable_qubits = [0, 1, 2, 3]\n",
        "check_qubits = [# COMPLETE THIS LINE\n",
        "output_qubit = 7\n",
        "disagree_list = [[0,1], # COMPLETE THIS LINE TO SPECIFY WHICH PAIRS OF QUBITS MUST DISAGREE\n",
        "\n",
        "\n",
        "# CREATE THE PREP AND ORACLE CIRCUITS\n",
        "prep = graph_color_prep(# COMPLETE THIS LINE\n",
        "oracle = graph_color_oracle(# COMPLETE THIS LINE\n",
        "\n",
        "\n",
        "# DEFINE THE AmplificationProblem\n",
        "def check_disagreement(state): return check_disagree_list_general(state, disagree_list)\n",
        "\n",
        "problem = AmplificationProblem(oracle,\n",
        "                               state_preparation = # COMPLETE THIS LINE,\n",
        "                               objective_qubits = variable_qubits,\n",
        "                               is_good_state = check_disagreement\n",
        "                               )"
      ],
      "metadata": {
        "id": "h8J79JwQQDsF"
      },
      "execution_count": null,
      "outputs": []
    },
    {
      "cell_type": "markdown",
      "source": [
        "##### **2. Solve the problem.**\n",
        "\n",
        "Increase the number of iterations to get the best results."
      ],
      "metadata": {
        "id": "qgfkODtcQDsF"
      }
    },
    {
      "cell_type": "code",
      "source": [
        "grover = Grover(iterations = 0, quantum_instance = Aer.get_backend('qasm_simulator'))\n",
        "results = grover.amplify(problem)\n",
        "\n",
        "plot_results(results, check_disagreement)"
      ],
      "metadata": {
        "id": "_2YC925IQDsF"
      },
      "execution_count": null,
      "outputs": []
    },
    {
      "cell_type": "markdown",
      "source": [
        "#### **Problem #1.3.3**\n",
        "\n",
        "Now, solve a problem with 4 countries such that Countries 0 and 1 are in a line and Countries 1, 2, and 3 all border each other:\n",
        "\n",
        "**Country 0 | Country 1 | Country 2**\n",
        "\n",
        "**&emsp;&emsp;&emsp;&emsp;&emsp;&emsp;&emsp;&emsp;Country 3**\n",
        "\n",
        "<br>\n",
        "\n",
        "This means that:\n",
        "* Countries 0 and 1 must be colored differently.\n",
        "* Countries 1 and 2 must be colored differently.\n",
        "* Countries 1 and 3 must be colored differently.\n",
        "* Countries 2 and 3 must be colored differently.\n",
        "* Any other pair of countries can be colored the same or differently since they do not border each other.\n",
        "\n",
        "This problem is particularly interesting since *there are no correct solutions with 2 colors*.\n",
        "\n",
        "<br>\n",
        "\n",
        "Specifically,\n",
        "\n",
        "1. Define the problem.\n",
        "1. Solve the problem."
      ],
      "metadata": {
        "id": "iUq6QD5dTDIX"
      }
    },
    {
      "cell_type": "markdown",
      "source": [
        "##### **1. Define the problem.**\n",
        "\n",
        "Complete the code below to define this specific problem."
      ],
      "metadata": {
        "id": "HD_NWmlhTDIY"
      }
    },
    {
      "cell_type": "code",
      "source": [
        "# DEFINE THE VARIABLES\n",
        "variable_qubits = [0, 1, 2, 3]\n",
        "check_qubits = [# COMPLETE THIS LINE\n",
        "output_qubit = 8\n",
        "disagree_list = [[0,1], # COMPLETE THIS LINE TO SPECIFY WHICH PAIRS OF QUBITS MUST DISAGREE\n",
        "\n",
        "\n",
        "# CREATE THE PREP AND ORACLE CIRCUITS\n",
        "prep = graph_color_prep(# COMPLETE THIS LINE\n",
        "oracle = graph_color_oracle(# COMPLETE THIS LINE\n",
        "\n",
        "\n",
        "# DEFINE THE AmplificationProblem\n",
        "def check_disagreement(state): return check_disagree_list_general(state, disagree_list)\n",
        "\n",
        "problem = AmplificationProblem(oracle,\n",
        "                               state_preparation = # COMPLETE THIS LINE,\n",
        "                               objective_qubits = variable_qubits,\n",
        "                               is_good_state = check_disagreement\n",
        "                               )"
      ],
      "metadata": {
        "id": "JsO28VYNTDIY"
      },
      "execution_count": null,
      "outputs": []
    },
    {
      "cell_type": "markdown",
      "source": [
        "##### **2. Solve the problem.**\n",
        "\n",
        "Increase the number of iterations to get the best results."
      ],
      "metadata": {
        "id": "nXxMXC7ATDIZ"
      }
    },
    {
      "cell_type": "code",
      "source": [
        "grover = Grover(iterations = 0, quantum_instance = Aer.get_backend('qasm_simulator'))\n",
        "results = grover.amplify(problem)\n",
        "\n",
        "plot_results(results, check_disagreement)"
      ],
      "metadata": {
        "id": "GV6VMZ8DTDIZ"
      },
      "execution_count": null,
      "outputs": []
    },
    {
      "cell_type": "markdown",
      "source": [
        "#### **Overconstrained and Underconstrained Problems**\n",
        "\n",
        "This is an example of an **overconstrained problem** where there are so many constraints that there are actually *no correct answers*. Every algorithm reacts differently to these types of problems. Can you determine what Grover's algorithm is doing using the results above and your understanding of the algorithm? \n",
        "\n",
        "<br>\n",
        "\n",
        "Technically, all of the problems we have seen so far have been **underconstrained problems** because they had few enough constraints to allow for *multiple correct answers*.\n"
      ],
      "metadata": {
        "id": "ijmBaJr2ViRw"
      }
    },
    {
      "cell_type": "markdown",
      "source": [
        "#### **Problem #1.3.4**\n",
        "\n",
        "To wrap up, solve the following problem involving 6 countries:\n",
        "\n",
        "**Country 0 | Country 1 | Country 2**\n",
        "\n",
        "**Country 3 | Country 4 | Country 5**\n",
        "\n",
        "\n",
        "<br>\n",
        "\n",
        "This means that:\n",
        "* Countries 0 and 1 must be colored differently.\n",
        "* Countries 0 and 3 must be colored differently.\n",
        "* Countries 1 and 2 must be colored differently.\n",
        "* Countries 1 and 4 must be colored differently.\n",
        "* Countries 2 and 5 must be colored differently.\n",
        "* Countries 3 and 4 must be colored differently.\n",
        "* Countries 4 and 5 must be colored differently.\n",
        "* Any other pair of countries can be colored the same or differently since they do not border each other.\n",
        "\n",
        "Can you determine what the correct answers are (if there are any)?\n",
        "\n",
        "<br>\n",
        "\n",
        "Specifically,\n",
        "\n",
        "1. Define the problem.\n",
        "1. Solve the problem."
      ],
      "metadata": {
        "id": "eVTvlzBnWE9x"
      }
    },
    {
      "cell_type": "markdown",
      "source": [
        "##### **1. Define the problem.**\n",
        "\n",
        "Complete the code below to define this specific problem."
      ],
      "metadata": {
        "id": "p-2jrVRtWE9y"
      }
    },
    {
      "cell_type": "code",
      "source": [
        "# DEFINE THE VARIABLES\n",
        "variable_qubits = [# COMPLETE THIS LINE\n",
        "check_qubits = [# COMPLETE THIS LINE\n",
        "output_qubit = # COMPLETE THIS LINE\n",
        "disagree_list = [# COMPLETE THIS LINE TO SPECIFY WHICH PAIRS OF QUBITS MUST DISAGREE\n",
        "\n",
        "\n",
        "# CREATE THE PREP AND ORACLE CIRCUITS\n",
        "prep = graph_color_prep(# COMPLETE THIS LINE\n",
        "oracle = graph_color_oracle(# COMPLETE THIS LINE\n",
        "\n",
        "\n",
        "# DEFINE THE AmplificationProblem\n",
        "def check_disagreement(state): return check_disagree_list_general(state, disagree_list)\n",
        "\n",
        "problem = AmplificationProblem(oracle,\n",
        "                               state_preparation = # COMPLETE THIS LINE,\n",
        "                               objective_qubits = variable_qubits,\n",
        "                               is_good_state = check_disagreement\n",
        "                               )"
      ],
      "metadata": {
        "id": "wuVg2CzjWE9y"
      },
      "execution_count": null,
      "outputs": []
    },
    {
      "cell_type": "markdown",
      "source": [
        "##### **2. Solve the problem.**\n",
        "\n",
        "Increase the number of iterations to get the best results.\n",
        "\n",
        "**NOTE**: As the size of the problems increase, so will the number of solutions we see in our graphs. If you start having trouble seeing the individual bars and states in the graphs, you can click on them to zoom in OR right click and press \"Save Image As...* to download onto your computer and open it up in a larger window."
      ],
      "metadata": {
        "id": "1eeLaPFFWE9y"
      }
    },
    {
      "cell_type": "code",
      "source": [
        "grover = Grover(iterations = 0, quantum_instance = Aer.get_backend('qasm_simulator'))\n",
        "results = grover.amplify(problem)\n",
        "\n",
        "plot_results(results, check_disagreement)"
      ],
      "metadata": {
        "id": "PgeBOrgcWE9y"
      },
      "execution_count": null,
      "outputs": []
    },
    {
      "cell_type": "markdown",
      "source": [
        "---\n",
        "## **Part 2: Mathematical Formulation of Grover's Algorithm**\n",
        "---\n",
        "The goal of this part is to help understand what each step of Grover's algorithm achieves. We will consider a list of 4 items, which can be encoded using 2 qubits. For simplicity, we will also be considering a case where we are searching a list of numbers for a number. Of course, this is not a problem we would use Grover's algorithm to solve, but the simplicity of the problem will make both our oracle and our operator simpler.\n",
        "\n",
        "**Note: Input your answers to the remaining questions in the Canvas assignment corresponding to homework 6.**"
      ],
      "metadata": {
        "id": "UA9nJkKwy3dD"
      }
    },
    {
      "cell_type": "markdown",
      "source": [
        "---\n",
        "### **Part 2.1: Ket Representation**\n",
        "---\n",
        "When writing out the process of applying single-qubit gates to multi-qubit states, it is often useful to write the index of the qubit you are applying the gate to somewhere near the gate you are applying. For example, it is unclear what we mean if we write \\\\(H|000\\rangle\\\\). Which qubit are we applying the \\\\(H\\\\) gate to? However, if we write something like \\\\(H^{(1)}|000\\rangle\\\\), we make it clear that we want to apply the \\\\(H\\\\) gate to qubit 1."
      ],
      "metadata": {
        "id": "p2u1R-X2_Dzw"
      }
    },
    {
      "cell_type": "markdown",
      "source": [
        "####**Problem #2.1.1**\n",
        "Using the convention above, create an equal superposition by computing $$H^{(1)}H^{(0)}|00\\rangle$$\n",
        "**Answer the following questions on Canvas: How many terms are in the final expression? What is the probability of measuring the correct answer?**"
      ],
      "metadata": {
        "id": "n5p6agiMXEcV"
      }
    },
    {
      "cell_type": "markdown",
      "source": [
        "####**Problem #2.1.2**\n",
        "The rule for creating the oracle in this case is fairly simple. The CZ gate (controlled z gate) has the property that it does nothing to the state of the two qubits unless both of the qubits are in the 1 state. If we apply the CZ gate to the \\\\(|11\\rangle\\\\) state, the phase of the state is flipped, and we end up with the \\\\(-|11\\rangle\\\\) state.\n",
        "\n",
        "Suppose we are looking to search for the 3rd item in our list (which corresponds to the \\\\(|10\\rangle\\\\) state). Our strategy to make our oracle will be to transform the \\\\(|10\\rangle\\\\) state into the \\\\(|11\\rangle\\\\) state, apply the CZ gate, then transform the \\\\(|11\\rangle\\\\) state back into the \\\\(|10\\rangle\\\\) state. Overall, this will have the effect of flipping the phase of the \\\\(|10\\rangle\\\\) state, while leaving all the others intact. **Answer the following questions on Canvas: What combination of gates on the two qubits will achieve this goal? After applying this combination of gates to the state from problem 3.1.1, what is the probability of measuring the correct answer?**"
      ],
      "metadata": {
        "id": "l4Ux9ofkXn-g"
      }
    },
    {
      "cell_type": "markdown",
      "source": [
        "####**Problem #2.1.3**\n",
        "The next step will be to apply the diffusion operator, which uses interference to amplify the signal of the correct answer. This next block of code creates and draws the quantum circuit for the diffusion operator:"
      ],
      "metadata": {
        "id": "jkMSu_nOZqd6"
      }
    },
    {
      "cell_type": "code",
      "source": [
        "qc = QuantumCircuit(2)\n",
        "qc.h([0,1])\n",
        "qc.x([0,1])\n",
        "qc.cx(0,1)\n",
        "qc.x([0,1])\n",
        "qc.h([0,1])\n",
        "qc.draw()"
      ],
      "metadata": {
        "colab": {
          "base_uri": "https://localhost:8080/",
          "height": 94
        },
        "id": "7SmDqTWal5jE",
        "outputId": "8a7d1a15-2d2c-446f-9e39-e150b3c1decd"
      },
      "execution_count": null,
      "outputs": [
        {
          "output_type": "execute_result",
          "data": {
            "text/plain": [
              "     ┌───┐┌───┐     ┌───┐┌───┐\n",
              "q_0: ┤ H ├┤ X ├──■──┤ X ├┤ H ├\n",
              "     ├───┤├───┤┌─┴─┐├───┤├───┤\n",
              "q_1: ┤ H ├┤ X ├┤ X ├┤ X ├┤ H ├\n",
              "     └───┘└───┘└───┘└───┘└───┘"
            ],
            "text/html": [
              "<pre style=\"word-wrap: normal;white-space: pre;background: #fff0;line-height: 1.1;font-family: &quot;Courier New&quot;,Courier,monospace\">     ┌───┐┌───┐     ┌───┐┌───┐\n",
              "q_0: ┤ H ├┤ X ├──■──┤ X ├┤ H ├\n",
              "     ├───┤├───┤┌─┴─┐├───┤├───┤\n",
              "q_1: ┤ H ├┤ X ├┤ X ├┤ X ├┤ H ├\n",
              "     └───┘└───┘└───┘└───┘└───┘</pre>"
            ]
          },
          "metadata": {},
          "execution_count": 14
        }
      ]
    },
    {
      "cell_type": "markdown",
      "source": [
        "However, instead of applying each of these gates individually, we can use the following lookup table to see the effect of the operator as a whole:\n",
        "\n",
        "| Input State       \t| Result of applying diffusion operator to input state                                                                         \t|\n",
        "|-------------------\t|-------------------------------------------------------------------------------------------------------:\t|\n",
        "| \\\\(|00\\rangle\\\\) \t| \\\\(\\frac{1}{2}|00\\rangle-\\frac{1}{2}|01\\rangle - \\frac{1}{2}|10\\rangle -\\frac{1}{2}|11\\rangle\\\\)  \t|\n",
        "| \\\\(|01\\rangle\\\\) \t| \\\\(-\\frac{1}{2}|00\\rangle+\\frac{1}{2}|01\\rangle - \\frac{1}{2}|10\\rangle -\\frac{1}{2}|11\\rangle\\\\) \t|\n",
        "| \\\\(|10\\rangle\\\\) \t| \\\\(-\\frac{1}{2}|00\\rangle-\\frac{1}{2}|01\\rangle +\\frac{1}{2}|10\\rangle -\\frac{1}{2}|11\\rangle\\\\)  \t|\n",
        "| \\\\(|11\\rangle\\\\) \t| \\\\(-\\frac{1}{2}|00\\rangle-\\frac{1}{2}|01\\rangle - \\frac{1}{2}|10\\rangle +\\frac{1}{2}|11\\rangle\\\\) \t|\n",
        "\n",
        "Apply the combination of gates that you found in the previous problem to the state you produced in Problem 3.1.1. You should end up with a state where all of the incorrect options have a positive phase, and the correct option has a negative phase. **Answer the following questions on Canvas: Compute the state obtained from applying the diffusion operator to this state. What is the probability of measuring the correct answer at this point?**"
      ],
      "metadata": {
        "id": "3jDR7fjSmVBF"
      }
    },
    {
      "cell_type": "markdown",
      "source": [
        "---\n",
        "###**Part 2.2: Vector Representation**\n",
        "---\n",
        "Grover's algorithm also has a geometric description which gives us the tools to derive the estimate for the optimal number of iterations. The following description is adapted from the Qiskit textbook chapter on Grover's algorithm, and if you are interested in a more rigorous derivation, you can find it [here](https://learn.qiskit.org/course/introduction/grovers-search-algorithm). "
      ],
      "metadata": {
        "id": "gPw64qwSrV5P"
      }
    },
    {
      "cell_type": "markdown",
      "source": [
        "####**Problem #2.2.1**\n",
        "To establish this description, we will define a plane as follows: Along one axis, we will draw a vector that represents the correct answer (the \"winner\"), which we will denote \\\\(|w\\rangle \\\\). We may be inclined to make an equal superposition of all the answers, which we will denote \\\\(|s\\rangle\\\\), the other axis, but it turns out that these two axes would not be perpendicular. Instead, we let the other axis be an equal superposition of all the wrong answers, which we will denote \\\\(|s'\\rangle\\\\). \n",
        "\n",
        "Note that if we plot \\\\(|s\\rangle\\\\) on these axes, the vector will seem much closer to \\\\(|s'\\rangle\\\\) than \\\\(|w\\rangle\\\\). **Answer the following question on Canvas: Why is this?**"
      ],
      "metadata": {
        "id": "S8AdEFBnuxvZ"
      }
    },
    {
      "cell_type": "markdown",
      "source": [
        "![plot1_s.png](data:image/png;base64,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)"
      ],
      "metadata": {
        "id": "-uLUVWXVxNB8"
      }
    },
    {
      "cell_type": "markdown",
      "source": [
        "The basic steps of the amplitude amplification process are as follows:\n",
        "\n",
        "**Step 1**: The amplitude amplification procedure starts out in the uniform superposition $| s \\rangle$. This state is easily created by applying H gates to every qubit. In the graphic above, we denote the angle between \\\\(|s\\rangle\\\\) and \\\\(|s'\\rangle\\\\) using \\\\(\\theta\\\\). Just as we express points on the unit circle, we can write that $$ |s\\rangle = \\cos(\\theta)|s'\\rangle + \\sin(\\theta)|w\\rangle$$.\n",
        "\n",
        "**Step 2**: We then apply the oracle operator, which corresponds to mirroring the state about the \\\\(|s'\\rangle\\\\) state. Note that this is exactly the same as flipping the phase of the \"correct\" component and keeping the phases of all other components the same. Some textds denote the oracle operator as \\\\(U_w\\\\), as is shown below."
      ],
      "metadata": {
        "id": "sM1R1b7JxR2w"
      }
    },
    {
      "cell_type": "markdown",
      "source": [
        "![plot2_s.png](data:image/png;base64,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)"
      ],
      "metadata": {
        "id": "OjNFxf8CxUVi"
      }
    },
    {
      "cell_type": "markdown",
      "source": [
        "Note that because one of the components is now negative, the average of all the amplitudes is now lower, as shown by the dashed line in the histogram in the figure above. Furthermore, note that the angle between \\\\(|s\\rangle\\\\) and the reflected state is now \\\\(2\\theta\\\\)\n",
        "\n",
        "**Step 3**: We now apply the diffusion operator (sometimes denoted $U_s$), which has the effect of mirroring the state about $|s\\rangle$. Now, note that the angle between the doubly reflected state and \\\\(|s'\\rangle\\\\) is now \\\\(3\\theta\\\\)."
      ],
      "metadata": {
        "id": "IEcJmlfTxYfC"
      }
    },
    {
      "cell_type": "markdown",
      "source": [
        "![plot3_s.png](data:image/png;base64,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)"
      ],
      "metadata": {
        "id": "FgnZ_gOTxeIO"
      }
    },
    {
      "cell_type": "markdown",
      "source": [
        "####**Problem #2.2.2**\n",
        "It turns out that two reflections always correspond to a rotation. The transformation $U_s U_f$ rotates the initial state $|s\\rangle$ closer towards the winner $|w\\rangle$. The action of the reflection $U_s$ in the amplitude bar diagram can be understood as a reflection about the average amplitude. Since the average amplitude has been lowered by the first reflection, this transformation boosts the negative amplitude of $|w\\rangle$ to roughly three times its original value, while it decreases the other amplitudes. We then go to **step 2** to repeat the application. This procedure will be repeated several times to zero in on the winner. **Answer the following question on Canvas: Find a function \\\\(\\phi(n)\\\\) that expresses the angle between a state that has undergone Grover's algorithm and \\\\(|s\\rangle\\\\) to the number of iterations.**"
      ],
      "metadata": {
        "id": "700YInEcxhKB"
      }
    },
    {
      "cell_type": "markdown",
      "source": [
        "#### **Problem #2.2.3**\n",
        "How does this help us calculate the ideal number of iterations? Your answer to the previous question should show that the angle grows linearly as the number of iterations increases, and we also know that ideally, we want to increase the angle until it reaches \\\\(90^\\circ\\\\), or \\\\(\\frac{\\pi}{2}\\\\) radians. By setting the function found in problem 3.2.3 equal to \\(\\frac{\\pi}{2}\\\\), we can theoretically solve for \\\\(n\\\\), the number of iterations. \n",
        "\n",
        "The only thing holding us back is \\\\(\\theta\\\\), which we don't have an expression for. Suppose our problem only has one correct solution. In this case, we have that the component of the \"winner\" is \\\\(\\frac{1}{\\sqrt{N}}\\\\), where \\\\(N\\\\) is the number of options we are searching through. We also have that the total length of the vector (the hypotenuse of the right triangle formed by the vector and \\\\(|s\\rangle \\\\)) must be 1, because of the way we constructed \\\\(|s\\rangle\\\\). We then have the expression $$ \\sin\\theta = \\frac{1}{\\sqrt{N}}$$.\n",
        "\n",
        "However, there is one last key step. When \\\\(N\\\\) is reasonably large, \\\\(\\frac{1}{\\sqrt{N}}\\\\) is a very small number, so we can make the approximation that \\\\(\\sin(\\theta)\\approx\\theta\\\\), which yields \\\\(\\theta \\approx \\frac{1}{\\sqrt{N}}\\\\). At last, we can solve our equation. **Answer the following question on Canvas: Solve the equation \\\\(\\phi(n)=\\frac{\\pi}{2}\\\\), where \\\\(\\phi(n)\\\\) is the function you found in problem 3.2.2, to find an expression for \\\\(n\\\\) in terms of \\\\(N\\\\).**"
      ],
      "metadata": {
        "id": "U4clcjjThTRs"
      }
    },
    {
      "cell_type": "markdown",
      "metadata": {
        "id": "BF1dNzrLntod"
      },
      "source": [
        "# End of Project\n",
        "\n",
        "---\n",
        "\n",
        "© 2023 The Coding School, All rights reserved"
      ]
    }
  ]
}